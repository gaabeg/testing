{
 "cells": [
  {
   "cell_type": "code",
   "execution_count": 2,
   "metadata": {},
   "outputs": [],
   "source": [
    "def more(A, p, r, x):\n",
    "    if (x>=r):\n",
    "        return 0\n",
    "    if (p>=r):\n",
    "        return len(A)-r\n",
    "    mid = (int(p+r))//int(2)\n",
    "    if (A[mid]<= x):\n",
    "        return more(A, mid+1, r, x)\n",
    "    else:\n",
    "        return more(A,p,mid, x)"
   ]
  },
  {
   "cell_type": "code",
   "execution_count": 3,
   "metadata": {},
   "outputs": [],
   "source": [
    "import numpy as np\n",
    "import copy, sys\n",
    "\n",
    "def wood(n, sizes): # assume x < y\n",
    "\tpieces = [[]]*(n+1)\n",
    "\tsizes.append(sys.maxsize)\n",
    "\tfor i in range(1,n+1):\n",
    "\t\tfor k in reversed(range(len(sizes)-1)):\n",
    "\t\t\tif (i-sizes[k]) >= 0:\n",
    "\t\t\t\tm = np.argmin([len(pieces[i-sizes[j]]) for j in range(k+1)])\n",
    "\t\t\t\tpieces[i] = (copy.deepcopy(pieces[i-sizes[m]]))\n",
    "\t\t\t\tpieces[i].append(sizes[m])\n",
    "\t\t\t\tbreak\t\n",
    "\treturn pieces[n]"
   ]
  },
  {
   "cell_type": "code",
   "execution_count": 6,
   "metadata": {},
   "outputs": [
    {
     "name": "stdout",
     "output_type": "stream",
     "text": [
      "[12, 12, 12, 12, 4]\n"
     ]
    }
   ],
   "source": [
    "print(wood(52, [1,3,4,7, 12]))"
   ]
  },
  {
   "cell_type": "markdown",
   "metadata": {},
   "source": []
  },
  {
   "cell_type": "code",
   "execution_count": 5,
   "metadata": {},
   "outputs": [
    {
     "data": {
      "text/plain": [
       "0"
      ]
     },
     "execution_count": 5,
     "metadata": {},
     "output_type": "execute_result"
    }
   ],
   "source": [
    "more([1,2,3,3,4,5, 7], 0, 6, 10)"
   ]
  }
 ],
 "metadata": {
  "kernelspec": {
   "display_name": "cps499",
   "language": "python",
   "name": "python3"
  },
  "language_info": {
   "codemirror_mode": {
    "name": "ipython",
    "version": 3
   },
   "file_extension": ".py",
   "mimetype": "text/x-python",
   "name": "python",
   "nbconvert_exporter": "python",
   "pygments_lexer": "ipython3",
   "version": "3.8.19"
  }
 },
 "nbformat": 4,
 "nbformat_minor": 2
}
